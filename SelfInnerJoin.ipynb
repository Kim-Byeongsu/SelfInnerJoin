{
 "cells": [
  {
   "cell_type": "markdown",
   "metadata": {},
   "source": [
    "0529 회사 데이터프레임 합치는 작업 간소화 ipynb"
   ]
  },
  {
   "cell_type": "code",
   "execution_count": 14,
   "metadata": {},
   "outputs": [],
   "source": [
    "import pandas as pd"
   ]
  },
  {
   "cell_type": "code",
   "execution_count": 15,
   "metadata": {},
   "outputs": [],
   "source": [
    "data1 = pd.read_excel(\"220524_2022 서베이링크 패널 프로파일 조사_중간.xlsx\")"
   ]
  },
  {
   "cell_type": "code",
   "execution_count": 16,
   "metadata": {},
   "outputs": [],
   "source": [
    "data2 = pd.read_excel(\"220524_2022 서베이링크 패널 프로파일 조사_중간(통합).xlsx\")"
   ]
  },
  {
   "cell_type": "code",
   "execution_count": 18,
   "metadata": {},
   "outputs": [],
   "source": [
    "data1.columns = data2.columns"
   ]
  },
  {
   "cell_type": "code",
   "execution_count": 37,
   "metadata": {},
   "outputs": [],
   "source": [
    "merge_outer = pd.merge(data1,data2, how='outer',on='UID', suffixes=(\"_data1\", \"_data2\"))"
   ]
  },
  {
   "cell_type": "code",
   "execution_count": 58,
   "metadata": {},
   "outputs": [],
   "source": [
    "table1 = pd.DataFrame()\n",
    "table2 = pd.DataFrame()\n",
    "\n",
    "\n",
    "for i in range(0, len(merge_outer.columns)):\n",
    "    if \"data1\" in merge_outer.columns[i]:\n",
    "        table1 = pd.concat([table1, merge_outer[merge_outer.columns[i]]], axis=1)\n",
    "    if \"data2\" in merge_outer.columns[i]:\n",
    "        table2 = pd.concat([table2, merge_outer[merge_outer.columns[i]]], axis=1)"
   ]
  },
  {
   "cell_type": "code",
   "execution_count": 59,
   "metadata": {},
   "outputs": [
    {
     "name": "stderr",
     "output_type": "stream",
     "text": [
      "C:\\Users\\Public\\Documents\\ESTsoft\\CreatorTemp\\ipykernel_36048\\804767984.py:1: PerformanceWarning: DataFrame is highly fragmented.  This is usually the result of calling `frame.insert` many times, which has poor performance.  Consider joining all columns at once using pd.concat(axis=1) instead. To get a de-fragmented frame, use `newframe = frame.copy()`\n",
      "  table1['UID'] = merge_outer['UID']\n",
      "C:\\Users\\Public\\Documents\\ESTsoft\\CreatorTemp\\ipykernel_36048\\804767984.py:2: PerformanceWarning: DataFrame is highly fragmented.  This is usually the result of calling `frame.insert` many times, which has poor performance.  Consider joining all columns at once using pd.concat(axis=1) instead. To get a de-fragmented frame, use `newframe = frame.copy()`\n",
      "  table2['UID'] = merge_outer['UID']\n"
     ]
    }
   ],
   "source": [
    "table1['UID'] = merge_outer['UID']\n",
    "table2['UID'] = merge_outer['UID']"
   ]
  },
  {
   "cell_type": "code",
   "execution_count": 60,
   "metadata": {},
   "outputs": [],
   "source": [
    "col1=table1.columns[-1:].to_list()\n",
    "col2=table1.columns[:-1].to_list()\n",
    "new_col=col1+col2\n",
    "table1=table1[new_col]"
   ]
  },
  {
   "cell_type": "code",
   "execution_count": 61,
   "metadata": {},
   "outputs": [],
   "source": [
    "col1=table2.columns[-1:].to_list()\n",
    "col2=table2.columns[:-1].to_list()\n",
    "new_col=col1+col2\n",
    "table2=table2[new_col]"
   ]
  },
  {
   "cell_type": "code",
   "execution_count": 64,
   "metadata": {},
   "outputs": [
    {
     "data": {
      "text/html": [
       "<div>\n",
       "<style scoped>\n",
       "    .dataframe tbody tr th:only-of-type {\n",
       "        vertical-align: middle;\n",
       "    }\n",
       "\n",
       "    .dataframe tbody tr th {\n",
       "        vertical-align: top;\n",
       "    }\n",
       "\n",
       "    .dataframe thead th {\n",
       "        text-align: right;\n",
       "    }\n",
       "</style>\n",
       "<table border=\"1\" class=\"dataframe\">\n",
       "  <thead>\n",
       "    <tr style=\"text-align: right;\">\n",
       "      <th></th>\n",
       "      <th>UID</th>\n",
       "      <th>TYPE</th>\n",
       "      <th>ATYPE</th>\n",
       "      <th>BTYPE</th>\n",
       "      <th>CTYPE</th>\n",
       "      <th>AQ1</th>\n",
       "      <th>AQ2</th>\n",
       "      <th>AQ2_1</th>\n",
       "      <th>AQ2_R</th>\n",
       "      <th>AQ3</th>\n",
       "      <th>...</th>\n",
       "      <th>CQ22_1#1</th>\n",
       "      <th>CQ22_1#2</th>\n",
       "      <th>CQ22_1#3</th>\n",
       "      <th>CQ22_1#4</th>\n",
       "      <th>CQ22_1#5</th>\n",
       "      <th>CQ22_1#6</th>\n",
       "      <th>CQ22_1#7</th>\n",
       "      <th>CQ22_1#8</th>\n",
       "      <th>CQ22_2</th>\n",
       "      <th>CQ22_3</th>\n",
       "    </tr>\n",
       "  </thead>\n",
       "  <tbody>\n",
       "    <tr>\n",
       "      <th>0</th>\n",
       "      <td>20110729Qa4592000007</td>\n",
       "      <td>1.0</td>\n",
       "      <td>A</td>\n",
       "      <td>B</td>\n",
       "      <td>C</td>\n",
       "      <td>1.0</td>\n",
       "      <td>1975.0</td>\n",
       "      <td>47.0</td>\n",
       "      <td>5.0</td>\n",
       "      <td>1.0</td>\n",
       "      <td>...</td>\n",
       "      <td>NaN</td>\n",
       "      <td>NaN</td>\n",
       "      <td>NaN</td>\n",
       "      <td>NaN</td>\n",
       "      <td>NaN</td>\n",
       "      <td>NaN</td>\n",
       "      <td>NaN</td>\n",
       "      <td>NaN</td>\n",
       "      <td>NaN</td>\n",
       "      <td>NaN</td>\n",
       "    </tr>\n",
       "    <tr>\n",
       "      <th>1</th>\n",
       "      <td>20110809Ec9111000338</td>\n",
       "      <td>1.0</td>\n",
       "      <td>A</td>\n",
       "      <td>B</td>\n",
       "      <td>C</td>\n",
       "      <td>1.0</td>\n",
       "      <td>1984.0</td>\n",
       "      <td>38.0</td>\n",
       "      <td>4.0</td>\n",
       "      <td>2.0</td>\n",
       "      <td>...</td>\n",
       "      <td>NaN</td>\n",
       "      <td>NaN</td>\n",
       "      <td>NaN</td>\n",
       "      <td>NaN</td>\n",
       "      <td>NaN</td>\n",
       "      <td>NaN</td>\n",
       "      <td>NaN</td>\n",
       "      <td>NaN</td>\n",
       "      <td>NaN</td>\n",
       "      <td>NaN</td>\n",
       "    </tr>\n",
       "    <tr>\n",
       "      <th>2</th>\n",
       "      <td>20110809Mj7590000426</td>\n",
       "      <td>1.0</td>\n",
       "      <td>A</td>\n",
       "      <td>B</td>\n",
       "      <td>NaN</td>\n",
       "      <td>1.0</td>\n",
       "      <td>1984.0</td>\n",
       "      <td>38.0</td>\n",
       "      <td>4.0</td>\n",
       "      <td>1.0</td>\n",
       "      <td>...</td>\n",
       "      <td>NaN</td>\n",
       "      <td>NaN</td>\n",
       "      <td>NaN</td>\n",
       "      <td>NaN</td>\n",
       "      <td>NaN</td>\n",
       "      <td>NaN</td>\n",
       "      <td>NaN</td>\n",
       "      <td>NaN</td>\n",
       "      <td>NaN</td>\n",
       "      <td>NaN</td>\n",
       "    </tr>\n",
       "    <tr>\n",
       "      <th>3</th>\n",
       "      <td>20110809Ti5172000511</td>\n",
       "      <td>1.0</td>\n",
       "      <td>A</td>\n",
       "      <td>B</td>\n",
       "      <td>C</td>\n",
       "      <td>1.0</td>\n",
       "      <td>1983.0</td>\n",
       "      <td>39.0</td>\n",
       "      <td>4.0</td>\n",
       "      <td>1.0</td>\n",
       "      <td>...</td>\n",
       "      <td>NaN</td>\n",
       "      <td>NaN</td>\n",
       "      <td>NaN</td>\n",
       "      <td>NaN</td>\n",
       "      <td>NaN</td>\n",
       "      <td>NaN</td>\n",
       "      <td>NaN</td>\n",
       "      <td>NaN</td>\n",
       "      <td>NaN</td>\n",
       "      <td>NaN</td>\n",
       "    </tr>\n",
       "    <tr>\n",
       "      <th>4</th>\n",
       "      <td>20110809Vh8926000018</td>\n",
       "      <td>1.0</td>\n",
       "      <td>A</td>\n",
       "      <td>B</td>\n",
       "      <td>C</td>\n",
       "      <td>2.0</td>\n",
       "      <td>1992.0</td>\n",
       "      <td>30.0</td>\n",
       "      <td>4.0</td>\n",
       "      <td>1.0</td>\n",
       "      <td>...</td>\n",
       "      <td>NaN</td>\n",
       "      <td>NaN</td>\n",
       "      <td>NaN</td>\n",
       "      <td>NaN</td>\n",
       "      <td>NaN</td>\n",
       "      <td>NaN</td>\n",
       "      <td>NaN</td>\n",
       "      <td>NaN</td>\n",
       "      <td>NaN</td>\n",
       "      <td>NaN</td>\n",
       "    </tr>\n",
       "  </tbody>\n",
       "</table>\n",
       "<p>5 rows × 818 columns</p>\n",
       "</div>"
      ],
      "text/plain": [
       "                    UID  TYPE ATYPE BTYPE CTYPE  AQ1     AQ2  AQ2_1  AQ2_R  \\\n",
       "0  20110729Qa4592000007   1.0     A     B     C  1.0  1975.0   47.0    5.0   \n",
       "1  20110809Ec9111000338   1.0     A     B     C  1.0  1984.0   38.0    4.0   \n",
       "2  20110809Mj7590000426   1.0     A     B   NaN  1.0  1984.0   38.0    4.0   \n",
       "3  20110809Ti5172000511   1.0     A     B     C  1.0  1983.0   39.0    4.0   \n",
       "4  20110809Vh8926000018   1.0     A     B     C  2.0  1992.0   30.0    4.0   \n",
       "\n",
       "   AQ3  ...  CQ22_1#1  CQ22_1#2  CQ22_1#3  CQ22_1#4  CQ22_1#5  CQ22_1#6  \\\n",
       "0  1.0  ...       NaN       NaN       NaN       NaN       NaN       NaN   \n",
       "1  2.0  ...       NaN       NaN       NaN       NaN       NaN       NaN   \n",
       "2  1.0  ...       NaN       NaN       NaN       NaN       NaN       NaN   \n",
       "3  1.0  ...       NaN       NaN       NaN       NaN       NaN       NaN   \n",
       "4  1.0  ...       NaN       NaN       NaN       NaN       NaN       NaN   \n",
       "\n",
       "   CQ22_1#7  CQ22_1#8  CQ22_2  CQ22_3  \n",
       "0       NaN       NaN     NaN     NaN  \n",
       "1       NaN       NaN     NaN     NaN  \n",
       "2       NaN       NaN     NaN     NaN  \n",
       "3       NaN       NaN     NaN     NaN  \n",
       "4       NaN       NaN     NaN     NaN  \n",
       "\n",
       "[5 rows x 818 columns]"
      ]
     },
     "execution_count": 64,
     "metadata": {},
     "output_type": "execute_result"
    }
   ],
   "source": [
    "table1.head()"
   ]
  },
  {
   "cell_type": "code",
   "execution_count": 65,
   "metadata": {},
   "outputs": [],
   "source": [
    "table1.columns = data1.columns\n",
    "table2.columns = data2.columns"
   ]
  },
  {
   "cell_type": "code",
   "execution_count": 66,
   "metadata": {},
   "outputs": [],
   "source": [
    "table1.update(table2,overwrite=False)"
   ]
  },
  {
   "cell_type": "code",
   "execution_count": 74,
   "metadata": {},
   "outputs": [],
   "source": [
    "table1.to_csv(\"result.csv\")"
   ]
  }
 ],
 "metadata": {
  "interpreter": {
   "hash": "7b15a3336d44770de43f9d15657322eebf1ac1e8dab8232d6e6876e7eec91d70"
  },
  "kernelspec": {
   "display_name": "Python 3.8.10 64-bit (windows store)",
   "language": "python",
   "name": "python3"
  },
  "language_info": {
   "codemirror_mode": {
    "name": "ipython",
    "version": 3
   },
   "file_extension": ".py",
   "mimetype": "text/x-python",
   "name": "python",
   "nbconvert_exporter": "python",
   "pygments_lexer": "ipython3",
   "version": "3.8.10"
  },
  "orig_nbformat": 4
 },
 "nbformat": 4,
 "nbformat_minor": 2
}
