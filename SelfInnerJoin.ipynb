{
 "cells": [
  {
   "cell_type": "markdown",
   "metadata": {},
   "source": [
    "0529 회사 데이터프레임 합치는 작업 간소화 ipynb"
   ]
  },
  {
   "cell_type": "code",
   "execution_count": 2,
   "metadata": {},
   "outputs": [],
   "source": [
    "import pandas as pd"
   ]
  },
  {
   "cell_type": "code",
   "execution_count": 26,
   "metadata": {},
   "outputs": [],
   "source": [
    "def change_columns(data):\n",
    "\n",
    "    col1=data.columns[-1:].to_list()\n",
    "    col2=data.columns[:-1].to_list()\n",
    "\n",
    "    new_col=col1+col2\n",
    "\n",
    "    data = data[new_col]\n",
    "    return data"
   ]
  },
  {
   "cell_type": "code",
   "execution_count": 5,
   "metadata": {},
   "outputs": [],
   "source": [
    "data1 = pd.read_excel(\"C:/Users/byeongsu/Documents/업무/vscode/220524_2022 서베이링크 패널 프로파일 조사_중간.xlsx\")"
   ]
  },
  {
   "cell_type": "code",
   "execution_count": 6,
   "metadata": {},
   "outputs": [],
   "source": [
    "data2 = pd.read_excel(\"C:/Users/byeongsu/Documents/업무/vscode/220524_2022 서베이링크 패널 프로파일 조사_중간(통합).xlsx\")"
   ]
  },
  {
   "cell_type": "code",
   "execution_count": 7,
   "metadata": {},
   "outputs": [],
   "source": [
    "data1.columns = data2.columns"
   ]
  },
  {
   "cell_type": "code",
   "execution_count": 8,
   "metadata": {},
   "outputs": [],
   "source": [
    "merge_outer = pd.merge(data1,data2, how='outer',on='UID', suffixes=(\"_data1\", \"_data2\"))"
   ]
  },
  {
   "cell_type": "code",
   "execution_count": 27,
   "metadata": {},
   "outputs": [],
   "source": [
    "table1 = pd.DataFrame()\n",
    "table2 = pd.DataFrame()\n",
    "\n",
    "\n",
    "for i in range(0, len(merge_outer.columns)):\n",
    "    if \"data1\" in merge_outer.columns[i]:\n",
    "        table1 = pd.concat([table1, merge_outer[merge_outer.columns[i]]], axis=1)\n",
    "    if \"data2\" in merge_outer.columns[i]:\n",
    "        table2 = pd.concat([table2, merge_outer[merge_outer.columns[i]]], axis=1)"
   ]
  },
  {
   "cell_type": "code",
   "execution_count": 28,
   "metadata": {},
   "outputs": [],
   "source": [
    "# 원본 데이터 살리기\n",
    "table1_dummy = table1.copy()\n",
    "table2_dummy = table2.copy()"
   ]
  },
  {
   "cell_type": "code",
   "execution_count": 29,
   "metadata": {},
   "outputs": [
    {
     "data": {
      "text/html": [
       "<div>\n",
       "<style scoped>\n",
       "    .dataframe tbody tr th:only-of-type {\n",
       "        vertical-align: middle;\n",
       "    }\n",
       "\n",
       "    .dataframe tbody tr th {\n",
       "        vertical-align: top;\n",
       "    }\n",
       "\n",
       "    .dataframe thead th {\n",
       "        text-align: right;\n",
       "    }\n",
       "</style>\n",
       "<table border=\"1\" class=\"dataframe\">\n",
       "  <thead>\n",
       "    <tr style=\"text-align: right;\">\n",
       "      <th></th>\n",
       "      <th>TYPE_data1</th>\n",
       "      <th>ATYPE_data1</th>\n",
       "      <th>BTYPE_data1</th>\n",
       "      <th>CTYPE_data1</th>\n",
       "      <th>AQ1_data1</th>\n",
       "      <th>AQ2_data1</th>\n",
       "      <th>AQ2_1_data1</th>\n",
       "      <th>AQ2_R_data1</th>\n",
       "      <th>AQ3_data1</th>\n",
       "      <th>AQ4_data1</th>\n",
       "      <th>...</th>\n",
       "      <th>CQ22_1#1_data1</th>\n",
       "      <th>CQ22_1#2_data1</th>\n",
       "      <th>CQ22_1#3_data1</th>\n",
       "      <th>CQ22_1#4_data1</th>\n",
       "      <th>CQ22_1#5_data1</th>\n",
       "      <th>CQ22_1#6_data1</th>\n",
       "      <th>CQ22_1#7_data1</th>\n",
       "      <th>CQ22_1#8_data1</th>\n",
       "      <th>CQ22_2_data1</th>\n",
       "      <th>CQ22_3_data1</th>\n",
       "    </tr>\n",
       "  </thead>\n",
       "  <tbody>\n",
       "    <tr>\n",
       "      <th>0</th>\n",
       "      <td>1.0</td>\n",
       "      <td>A</td>\n",
       "      <td>B</td>\n",
       "      <td>C</td>\n",
       "      <td>1.0</td>\n",
       "      <td>1975.0</td>\n",
       "      <td>47.0</td>\n",
       "      <td>5.0</td>\n",
       "      <td>1.0</td>\n",
       "      <td>6.0</td>\n",
       "      <td>...</td>\n",
       "      <td>NaN</td>\n",
       "      <td>NaN</td>\n",
       "      <td>NaN</td>\n",
       "      <td>NaN</td>\n",
       "      <td>NaN</td>\n",
       "      <td>NaN</td>\n",
       "      <td>NaN</td>\n",
       "      <td>NaN</td>\n",
       "      <td>NaN</td>\n",
       "      <td>NaN</td>\n",
       "    </tr>\n",
       "  </tbody>\n",
       "</table>\n",
       "<p>1 rows × 817 columns</p>\n",
       "</div>"
      ],
      "text/plain": [
       "   TYPE_data1 ATYPE_data1 BTYPE_data1 CTYPE_data1  AQ1_data1  AQ2_data1  \\\n",
       "0         1.0           A           B           C        1.0     1975.0   \n",
       "\n",
       "   AQ2_1_data1  AQ2_R_data1  AQ3_data1  AQ4_data1  ...  CQ22_1#1_data1  \\\n",
       "0         47.0          5.0        1.0        6.0  ...             NaN   \n",
       "\n",
       "   CQ22_1#2_data1  CQ22_1#3_data1  CQ22_1#4_data1  CQ22_1#5_data1  \\\n",
       "0             NaN             NaN             NaN             NaN   \n",
       "\n",
       "   CQ22_1#6_data1  CQ22_1#7_data1  CQ22_1#8_data1  CQ22_2_data1  CQ22_3_data1  \n",
       "0             NaN             NaN             NaN           NaN           NaN  \n",
       "\n",
       "[1 rows x 817 columns]"
      ]
     },
     "execution_count": 29,
     "metadata": {},
     "output_type": "execute_result"
    }
   ],
   "source": [
    "table1.head(1)"
   ]
  },
  {
   "cell_type": "code",
   "execution_count": 30,
   "metadata": {},
   "outputs": [
    {
     "data": {
      "text/plain": [
       "((30074, 817), (30074, 1635))"
      ]
     },
     "execution_count": 30,
     "metadata": {},
     "output_type": "execute_result"
    }
   ],
   "source": [
    "table1.shape, merge_outer.shape"
   ]
  },
  {
   "cell_type": "code",
   "execution_count": 31,
   "metadata": {},
   "outputs": [],
   "source": [
    "table1 = pd.concat([table1,merge_outer['UID']], axis=0, ignore_index=True)\n",
    "table2 = pd.concat([table2,merge_outer['UID']], axis=0, ignore_index=True)"
   ]
  },
  {
   "cell_type": "code",
   "execution_count": 25,
   "metadata": {},
   "outputs": [
    {
     "data": {
      "text/plain": [
       "0    20110729Qa4592000007\n",
       "Name: UID, dtype: object"
      ]
     },
     "execution_count": 25,
     "metadata": {},
     "output_type": "execute_result"
    }
   ],
   "source": [
    "merge_outer['UID'].head(1)"
   ]
  },
  {
   "cell_type": "code",
   "execution_count": 32,
   "metadata": {},
   "outputs": [
    {
     "data": {
      "text/html": [
       "<div>\n",
       "<style scoped>\n",
       "    .dataframe tbody tr th:only-of-type {\n",
       "        vertical-align: middle;\n",
       "    }\n",
       "\n",
       "    .dataframe tbody tr th {\n",
       "        vertical-align: top;\n",
       "    }\n",
       "\n",
       "    .dataframe thead th {\n",
       "        text-align: right;\n",
       "    }\n",
       "</style>\n",
       "<table border=\"1\" class=\"dataframe\">\n",
       "  <thead>\n",
       "    <tr style=\"text-align: right;\">\n",
       "      <th></th>\n",
       "      <th>0</th>\n",
       "      <th>AQ10_data1</th>\n",
       "      <th>AQ11_1_data1</th>\n",
       "      <th>AQ11_data1</th>\n",
       "      <th>AQ12_data1</th>\n",
       "      <th>AQ13#10_data1</th>\n",
       "      <th>AQ13#1_data1</th>\n",
       "      <th>AQ13#2_data1</th>\n",
       "      <th>AQ13#3_data1</th>\n",
       "      <th>AQ13#4_data1</th>\n",
       "      <th>...</th>\n",
       "      <th>CQ9_4#75_data1</th>\n",
       "      <th>CQ9_4#80_data1</th>\n",
       "      <th>CQ9_4#81_data1</th>\n",
       "      <th>CQ9_4#82_data1</th>\n",
       "      <th>CQ9_4#83_data1</th>\n",
       "      <th>CQ9_4#84_data1</th>\n",
       "      <th>CQ9_4#85_data1</th>\n",
       "      <th>CQ9_4#98_data1</th>\n",
       "      <th>CTYPE_data1</th>\n",
       "      <th>TYPE_data1</th>\n",
       "    </tr>\n",
       "  </thead>\n",
       "  <tbody>\n",
       "    <tr>\n",
       "      <th>0</th>\n",
       "      <td>NaN</td>\n",
       "      <td>2.0</td>\n",
       "      <td>1.0</td>\n",
       "      <td>4.0</td>\n",
       "      <td>1.0</td>\n",
       "      <td>NaN</td>\n",
       "      <td>NaN</td>\n",
       "      <td>NaN</td>\n",
       "      <td>NaN</td>\n",
       "      <td>NaN</td>\n",
       "      <td>...</td>\n",
       "      <td>NaN</td>\n",
       "      <td>NaN</td>\n",
       "      <td>NaN</td>\n",
       "      <td>NaN</td>\n",
       "      <td>NaN</td>\n",
       "      <td>NaN</td>\n",
       "      <td>NaN</td>\n",
       "      <td>98.0</td>\n",
       "      <td>C</td>\n",
       "      <td>1.0</td>\n",
       "    </tr>\n",
       "  </tbody>\n",
       "</table>\n",
       "<p>1 rows × 818 columns</p>\n",
       "</div>"
      ],
      "text/plain": [
       "     0  AQ10_data1  AQ11_1_data1  AQ11_data1  AQ12_data1  AQ13#10_data1  \\\n",
       "0  NaN         2.0           1.0         4.0         1.0            NaN   \n",
       "\n",
       "   AQ13#1_data1  AQ13#2_data1  AQ13#3_data1  AQ13#4_data1  ...  \\\n",
       "0           NaN           NaN           NaN           NaN  ...   \n",
       "\n",
       "   CQ9_4#75_data1  CQ9_4#80_data1  CQ9_4#81_data1  CQ9_4#82_data1  \\\n",
       "0             NaN             NaN             NaN             NaN   \n",
       "\n",
       "   CQ9_4#83_data1  CQ9_4#84_data1  CQ9_4#85_data1  CQ9_4#98_data1  \\\n",
       "0             NaN             NaN             NaN            98.0   \n",
       "\n",
       "   CTYPE_data1  TYPE_data1  \n",
       "0            C         1.0  \n",
       "\n",
       "[1 rows x 818 columns]"
      ]
     },
     "execution_count": 32,
     "metadata": {},
     "output_type": "execute_result"
    }
   ],
   "source": [
    "table1.head(1)"
   ]
  },
  {
   "cell_type": "code",
   "execution_count": 33,
   "metadata": {},
   "outputs": [],
   "source": [
    "# 컬럼 위치 바꾸기 -- 0529 수정 [ concat으로 바꿈으로써 필요없어짐 ]\n",
    "# table1 = change_columns(table1)\n",
    "# table2 = change_columns(table2)"
   ]
  },
  {
   "cell_type": "code",
   "execution_count": 34,
   "metadata": {},
   "outputs": [],
   "source": [
    "table1.columns = data1.columns\n",
    "table2.columns = data2.columns"
   ]
  },
  {
   "cell_type": "code",
   "execution_count": 35,
   "metadata": {},
   "outputs": [],
   "source": [
    "table1.update(table2,overwrite=False)"
   ]
  },
  {
   "cell_type": "code",
   "execution_count": 36,
   "metadata": {},
   "outputs": [],
   "source": [
    "table1.to_csv(\"result.csv\")"
   ]
  }
 ],
 "metadata": {
  "interpreter": {
   "hash": "7758e92e9a61d7a3490898707f7eeb937c85e9d1e8d4e877cc6c187218f226d5"
  },
  "kernelspec": {
   "display_name": "Python 3.9.7 ('base')",
   "language": "python",
   "name": "python3"
  },
  "language_info": {
   "codemirror_mode": {
    "name": "ipython",
    "version": 3
   },
   "file_extension": ".py",
   "mimetype": "text/x-python",
   "name": "python",
   "nbconvert_exporter": "python",
   "pygments_lexer": "ipython3",
   "version": "3.9.7"
  },
  "orig_nbformat": 4
 },
 "nbformat": 4,
 "nbformat_minor": 2
}
