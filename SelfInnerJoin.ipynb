{
 "cells": [
  {
   "cell_type": "markdown",
   "metadata": {},
   "source": [
    "0529 회사 데이터프레임 합치는 작업 간소화 ipynb"
   ]
  },
  {
   "cell_type": "code",
   "execution_count": 30,
   "metadata": {},
   "outputs": [],
   "source": [
    "import pandas as pd"
   ]
  },
  {
   "cell_type": "code",
   "execution_count": 31,
   "metadata": {},
   "outputs": [],
   "source": [
    "def change_columns(data):\n",
    "\n",
    "    col1=data.columns[-1:].to_list()\n",
    "    col2=data.columns[:-1].to_list()\n",
    "\n",
    "    new_col=col1+col2\n",
    "\n",
    "    data = data[new_col]\n",
    "    return data"
   ]
  },
  {
   "cell_type": "code",
   "execution_count": 41,
   "metadata": {},
   "outputs": [],
   "source": [
    "data1 = pd.read_excel(\"220530_2022 서베이링크 패널 프로파일 조사_중간.xlsx\")"
   ]
  },
  {
   "cell_type": "code",
   "execution_count": 44,
   "metadata": {},
   "outputs": [],
   "source": [
    "data2 = pd.read_excel(\"220524_2022 서베이링크 패널 프로파일 조사_중간(통합).xlsx\")"
   ]
  },
  {
   "cell_type": "code",
   "execution_count": 45,
   "metadata": {},
   "outputs": [
    {
     "data": {
      "text/plain": [
       "Index(['UID', 'TYPE', 'ATYPE', 'BTYPE', 'CTYPE', 'AQ1', 'AQ2', 'AQ2_1',\n",
       "       'AQ2_R', 'AQ3',\n",
       "       ...\n",
       "       'CQ22_1#1', 'CQ22_1#2', 'CQ22_1#3', 'CQ22_1#4', 'CQ22_1#5', 'CQ22_1#6',\n",
       "       'CQ22_1#7', 'CQ22_1#8', 'CQ22_2', 'CQ22_3'],\n",
       "      dtype='object', length=818)"
      ]
     },
     "execution_count": 45,
     "metadata": {},
     "output_type": "execute_result"
    }
   ],
   "source": [
    "data2.columns"
   ]
  },
  {
   "cell_type": "code",
   "execution_count": 46,
   "metadata": {},
   "outputs": [
    {
     "data": {
      "text/plain": [
       "Index(['UID', 'TYPE', 'Atype', 'Btype', 'Ctype', 'AQ1', 'AQ2', 'AQ2_1',\n",
       "       'AQ2_R', 'AQ3',\n",
       "       ...\n",
       "       'CQ22_1#1', 'CQ22_1#2', 'CQ22_1#3', 'CQ22_1#4', 'CQ22_1#5', 'CQ22_1#6',\n",
       "       'CQ22_1#7', 'CQ22_1#8', 'CQ22_2', 'CQ22_3'],\n",
       "      dtype='object', length=818)"
      ]
     },
     "execution_count": 46,
     "metadata": {},
     "output_type": "execute_result"
    }
   ],
   "source": [
    "data1.columns"
   ]
  },
  {
   "cell_type": "code",
   "execution_count": 47,
   "metadata": {},
   "outputs": [],
   "source": [
    "data1.columns = data2.columns"
   ]
  },
  {
   "cell_type": "code",
   "execution_count": 48,
   "metadata": {},
   "outputs": [],
   "source": [
    "merge_outer = pd.merge(data1,data2, how='outer',on='UID', suffixes=(\"_data1\", \"_data2\"))"
   ]
  },
  {
   "cell_type": "code",
   "execution_count": 49,
   "metadata": {},
   "outputs": [
    {
     "name": "stdout",
     "output_type": "stream",
     "text": [
      "                    UID  TYPE_data1 ATYPE_data1 BTYPE_data1 CTYPE_data1  \\\n",
      "0  20110822Bx8211000038         1.0           A           B           C   \n",
      "1  20110822Jc1312000164         1.0           A           B           C   \n",
      "2  20110823La3364000128         1.0           A           B           C   \n",
      "3  20110823Mu1559000201         1.0           A           B           C   \n",
      "4  20110826Ti8194000024         1.0           A           B           C   \n",
      "5  20110907Ea5005000214         1.0           A           B           C   \n",
      "\n",
      "   AQ1_data1  AQ2_data1  AQ2_1_data1  AQ2_R_data1  AQ3_data1  ...  \\\n",
      "0        2.0     1964.0         58.0          6.0        1.0  ...   \n",
      "1        1.0     1972.0         50.0          6.0        1.0  ...   \n",
      "2        1.0     1980.0         42.0          5.0        1.0  ...   \n",
      "3        2.0     1984.0         38.0          4.0        1.0  ...   \n",
      "4        2.0     1972.0         50.0          6.0        2.0  ...   \n",
      "5        2.0     1987.0         35.0          4.0        1.0  ...   \n",
      "\n",
      "   CQ22_1#1_data2  CQ22_1#2_data2  CQ22_1#3_data2  CQ22_1#4_data2  \\\n",
      "0             NaN             NaN             NaN             NaN   \n",
      "1             NaN             NaN             NaN             NaN   \n",
      "2             NaN             NaN             NaN             NaN   \n",
      "3             NaN             NaN             NaN             NaN   \n",
      "4             NaN             NaN             NaN             NaN   \n",
      "5             NaN             NaN             NaN             NaN   \n",
      "\n",
      "   CQ22_1#5_data2  CQ22_1#6_data2  CQ22_1#7_data2  CQ22_1#8_data2  \\\n",
      "0             NaN             NaN             NaN             NaN   \n",
      "1             NaN             NaN             NaN             NaN   \n",
      "2             NaN             NaN             NaN             NaN   \n",
      "3             NaN             NaN             NaN             NaN   \n",
      "4             NaN             NaN             NaN             NaN   \n",
      "5             NaN             NaN             NaN             NaN   \n",
      "\n",
      "   CQ22_2_data2  CQ22_3_data2  \n",
      "0           NaN           NaN  \n",
      "1           NaN           NaN  \n",
      "2           NaN           NaN  \n",
      "3           NaN           NaN  \n",
      "4           NaN           NaN  \n",
      "5           NaN           NaN  \n",
      "\n",
      "[6 rows x 1635 columns]\n",
      "(2328, 1635)\n"
     ]
    }
   ],
   "source": [
    "print(merge_outer.head(6))\n",
    "print(merge_outer.shape)"
   ]
  },
  {
   "cell_type": "code",
   "execution_count": 50,
   "metadata": {},
   "outputs": [],
   "source": [
    "table1 = pd.DataFrame()\n",
    "table2 = pd.DataFrame()\n",
    "\n",
    "\n",
    "for i in range(0, len(merge_outer.columns)):\n",
    "    if \"data1\" in merge_outer.columns[i]:\n",
    "        table1 = pd.concat([table1, merge_outer[merge_outer.columns[i]]], axis=1)\n",
    "    if \"data2\" in merge_outer.columns[i]:\n",
    "        table2 = pd.concat([table2, merge_outer[merge_outer.columns[i]]], axis=1)"
   ]
  },
  {
   "cell_type": "code",
   "execution_count": 51,
   "metadata": {},
   "outputs": [],
   "source": [
    "# 원본 데이터 살리기\n",
    "table1_dummy = table1.copy()\n",
    "table2_dummy = table2.copy()"
   ]
  },
  {
   "cell_type": "code",
   "execution_count": 52,
   "metadata": {},
   "outputs": [],
   "source": [
    "table1 = table1_dummy.copy()\n",
    "table2 = table2_dummy.copy()"
   ]
  },
  {
   "cell_type": "code",
   "execution_count": 53,
   "metadata": {},
   "outputs": [
    {
     "data": {
      "text/html": [
       "<div>\n",
       "<style scoped>\n",
       "    .dataframe tbody tr th:only-of-type {\n",
       "        vertical-align: middle;\n",
       "    }\n",
       "\n",
       "    .dataframe tbody tr th {\n",
       "        vertical-align: top;\n",
       "    }\n",
       "\n",
       "    .dataframe thead th {\n",
       "        text-align: right;\n",
       "    }\n",
       "</style>\n",
       "<table border=\"1\" class=\"dataframe\">\n",
       "  <thead>\n",
       "    <tr style=\"text-align: right;\">\n",
       "      <th></th>\n",
       "      <th>TYPE_data1</th>\n",
       "      <th>ATYPE_data1</th>\n",
       "      <th>BTYPE_data1</th>\n",
       "      <th>CTYPE_data1</th>\n",
       "      <th>AQ1_data1</th>\n",
       "      <th>AQ2_data1</th>\n",
       "      <th>AQ2_1_data1</th>\n",
       "      <th>AQ2_R_data1</th>\n",
       "      <th>AQ3_data1</th>\n",
       "      <th>AQ4_data1</th>\n",
       "      <th>...</th>\n",
       "      <th>CQ22_1#1_data1</th>\n",
       "      <th>CQ22_1#2_data1</th>\n",
       "      <th>CQ22_1#3_data1</th>\n",
       "      <th>CQ22_1#4_data1</th>\n",
       "      <th>CQ22_1#5_data1</th>\n",
       "      <th>CQ22_1#6_data1</th>\n",
       "      <th>CQ22_1#7_data1</th>\n",
       "      <th>CQ22_1#8_data1</th>\n",
       "      <th>CQ22_2_data1</th>\n",
       "      <th>CQ22_3_data1</th>\n",
       "    </tr>\n",
       "  </thead>\n",
       "  <tbody>\n",
       "    <tr>\n",
       "      <th>0</th>\n",
       "      <td>1.0</td>\n",
       "      <td>A</td>\n",
       "      <td>B</td>\n",
       "      <td>C</td>\n",
       "      <td>2.0</td>\n",
       "      <td>1964.0</td>\n",
       "      <td>58.0</td>\n",
       "      <td>6.0</td>\n",
       "      <td>1.0</td>\n",
       "      <td>3.0</td>\n",
       "      <td>...</td>\n",
       "      <td>NaN</td>\n",
       "      <td>NaN</td>\n",
       "      <td>NaN</td>\n",
       "      <td>NaN</td>\n",
       "      <td>NaN</td>\n",
       "      <td>NaN</td>\n",
       "      <td>NaN</td>\n",
       "      <td>NaN</td>\n",
       "      <td>NaN</td>\n",
       "      <td>NaN</td>\n",
       "    </tr>\n",
       "  </tbody>\n",
       "</table>\n",
       "<p>1 rows × 817 columns</p>\n",
       "</div>"
      ],
      "text/plain": [
       "   TYPE_data1 ATYPE_data1 BTYPE_data1 CTYPE_data1  AQ1_data1  AQ2_data1  \\\n",
       "0         1.0           A           B           C        2.0     1964.0   \n",
       "\n",
       "   AQ2_1_data1  AQ2_R_data1  AQ3_data1  AQ4_data1  ...  CQ22_1#1_data1  \\\n",
       "0         58.0          6.0        1.0        3.0  ...             NaN   \n",
       "\n",
       "   CQ22_1#2_data1  CQ22_1#3_data1  CQ22_1#4_data1  CQ22_1#5_data1  \\\n",
       "0             NaN             NaN             NaN             NaN   \n",
       "\n",
       "   CQ22_1#6_data1  CQ22_1#7_data1  CQ22_1#8_data1  CQ22_2_data1  CQ22_3_data1  \n",
       "0             NaN             NaN             NaN           NaN           NaN  \n",
       "\n",
       "[1 rows x 817 columns]"
      ]
     },
     "execution_count": 53,
     "metadata": {},
     "output_type": "execute_result"
    }
   ],
   "source": [
    "table1.head(1)"
   ]
  },
  {
   "cell_type": "code",
   "execution_count": 54,
   "metadata": {},
   "outputs": [
    {
     "data": {
      "text/plain": [
       "((2328, 817), (2328, 1635))"
      ]
     },
     "execution_count": 54,
     "metadata": {},
     "output_type": "execute_result"
    }
   ],
   "source": [
    "table1.shape, merge_outer.shape"
   ]
  },
  {
   "cell_type": "code",
   "execution_count": 55,
   "metadata": {},
   "outputs": [
    {
     "data": {
      "text/html": [
       "<div>\n",
       "<style scoped>\n",
       "    .dataframe tbody tr th:only-of-type {\n",
       "        vertical-align: middle;\n",
       "    }\n",
       "\n",
       "    .dataframe tbody tr th {\n",
       "        vertical-align: top;\n",
       "    }\n",
       "\n",
       "    .dataframe thead th {\n",
       "        text-align: right;\n",
       "    }\n",
       "</style>\n",
       "<table border=\"1\" class=\"dataframe\">\n",
       "  <thead>\n",
       "    <tr style=\"text-align: right;\">\n",
       "      <th></th>\n",
       "      <th>UID</th>\n",
       "      <th>TYPE_data1</th>\n",
       "      <th>ATYPE_data1</th>\n",
       "      <th>BTYPE_data1</th>\n",
       "      <th>CTYPE_data1</th>\n",
       "      <th>AQ1_data1</th>\n",
       "      <th>AQ2_data1</th>\n",
       "      <th>AQ2_1_data1</th>\n",
       "      <th>AQ2_R_data1</th>\n",
       "      <th>AQ3_data1</th>\n",
       "      <th>...</th>\n",
       "      <th>CQ22_1#1_data2</th>\n",
       "      <th>CQ22_1#2_data2</th>\n",
       "      <th>CQ22_1#3_data2</th>\n",
       "      <th>CQ22_1#4_data2</th>\n",
       "      <th>CQ22_1#5_data2</th>\n",
       "      <th>CQ22_1#6_data2</th>\n",
       "      <th>CQ22_1#7_data2</th>\n",
       "      <th>CQ22_1#8_data2</th>\n",
       "      <th>CQ22_2_data2</th>\n",
       "      <th>CQ22_3_data2</th>\n",
       "    </tr>\n",
       "  </thead>\n",
       "  <tbody>\n",
       "    <tr>\n",
       "      <th>0</th>\n",
       "      <td>20110822Bx8211000038</td>\n",
       "      <td>1.0</td>\n",
       "      <td>A</td>\n",
       "      <td>B</td>\n",
       "      <td>C</td>\n",
       "      <td>2.0</td>\n",
       "      <td>1964.0</td>\n",
       "      <td>58.0</td>\n",
       "      <td>6.0</td>\n",
       "      <td>1.0</td>\n",
       "      <td>...</td>\n",
       "      <td>NaN</td>\n",
       "      <td>NaN</td>\n",
       "      <td>NaN</td>\n",
       "      <td>NaN</td>\n",
       "      <td>NaN</td>\n",
       "      <td>NaN</td>\n",
       "      <td>NaN</td>\n",
       "      <td>NaN</td>\n",
       "      <td>NaN</td>\n",
       "      <td>NaN</td>\n",
       "    </tr>\n",
       "    <tr>\n",
       "      <th>1</th>\n",
       "      <td>20110822Jc1312000164</td>\n",
       "      <td>1.0</td>\n",
       "      <td>A</td>\n",
       "      <td>B</td>\n",
       "      <td>C</td>\n",
       "      <td>1.0</td>\n",
       "      <td>1972.0</td>\n",
       "      <td>50.0</td>\n",
       "      <td>6.0</td>\n",
       "      <td>1.0</td>\n",
       "      <td>...</td>\n",
       "      <td>NaN</td>\n",
       "      <td>NaN</td>\n",
       "      <td>NaN</td>\n",
       "      <td>NaN</td>\n",
       "      <td>NaN</td>\n",
       "      <td>NaN</td>\n",
       "      <td>NaN</td>\n",
       "      <td>NaN</td>\n",
       "      <td>NaN</td>\n",
       "      <td>NaN</td>\n",
       "    </tr>\n",
       "    <tr>\n",
       "      <th>2</th>\n",
       "      <td>20110823La3364000128</td>\n",
       "      <td>1.0</td>\n",
       "      <td>A</td>\n",
       "      <td>B</td>\n",
       "      <td>C</td>\n",
       "      <td>1.0</td>\n",
       "      <td>1980.0</td>\n",
       "      <td>42.0</td>\n",
       "      <td>5.0</td>\n",
       "      <td>1.0</td>\n",
       "      <td>...</td>\n",
       "      <td>NaN</td>\n",
       "      <td>NaN</td>\n",
       "      <td>NaN</td>\n",
       "      <td>NaN</td>\n",
       "      <td>NaN</td>\n",
       "      <td>NaN</td>\n",
       "      <td>NaN</td>\n",
       "      <td>NaN</td>\n",
       "      <td>NaN</td>\n",
       "      <td>NaN</td>\n",
       "    </tr>\n",
       "    <tr>\n",
       "      <th>3</th>\n",
       "      <td>20110823Mu1559000201</td>\n",
       "      <td>1.0</td>\n",
       "      <td>A</td>\n",
       "      <td>B</td>\n",
       "      <td>C</td>\n",
       "      <td>2.0</td>\n",
       "      <td>1984.0</td>\n",
       "      <td>38.0</td>\n",
       "      <td>4.0</td>\n",
       "      <td>1.0</td>\n",
       "      <td>...</td>\n",
       "      <td>NaN</td>\n",
       "      <td>NaN</td>\n",
       "      <td>NaN</td>\n",
       "      <td>NaN</td>\n",
       "      <td>NaN</td>\n",
       "      <td>NaN</td>\n",
       "      <td>NaN</td>\n",
       "      <td>NaN</td>\n",
       "      <td>NaN</td>\n",
       "      <td>NaN</td>\n",
       "    </tr>\n",
       "    <tr>\n",
       "      <th>4</th>\n",
       "      <td>20110826Ti8194000024</td>\n",
       "      <td>1.0</td>\n",
       "      <td>A</td>\n",
       "      <td>B</td>\n",
       "      <td>C</td>\n",
       "      <td>2.0</td>\n",
       "      <td>1972.0</td>\n",
       "      <td>50.0</td>\n",
       "      <td>6.0</td>\n",
       "      <td>2.0</td>\n",
       "      <td>...</td>\n",
       "      <td>NaN</td>\n",
       "      <td>NaN</td>\n",
       "      <td>NaN</td>\n",
       "      <td>NaN</td>\n",
       "      <td>NaN</td>\n",
       "      <td>NaN</td>\n",
       "      <td>NaN</td>\n",
       "      <td>NaN</td>\n",
       "      <td>NaN</td>\n",
       "      <td>NaN</td>\n",
       "    </tr>\n",
       "  </tbody>\n",
       "</table>\n",
       "<p>5 rows × 1635 columns</p>\n",
       "</div>"
      ],
      "text/plain": [
       "                    UID  TYPE_data1 ATYPE_data1 BTYPE_data1 CTYPE_data1  \\\n",
       "0  20110822Bx8211000038         1.0           A           B           C   \n",
       "1  20110822Jc1312000164         1.0           A           B           C   \n",
       "2  20110823La3364000128         1.0           A           B           C   \n",
       "3  20110823Mu1559000201         1.0           A           B           C   \n",
       "4  20110826Ti8194000024         1.0           A           B           C   \n",
       "\n",
       "   AQ1_data1  AQ2_data1  AQ2_1_data1  AQ2_R_data1  AQ3_data1  ...  \\\n",
       "0        2.0     1964.0         58.0          6.0        1.0  ...   \n",
       "1        1.0     1972.0         50.0          6.0        1.0  ...   \n",
       "2        1.0     1980.0         42.0          5.0        1.0  ...   \n",
       "3        2.0     1984.0         38.0          4.0        1.0  ...   \n",
       "4        2.0     1972.0         50.0          6.0        2.0  ...   \n",
       "\n",
       "   CQ22_1#1_data2  CQ22_1#2_data2  CQ22_1#3_data2  CQ22_1#4_data2  \\\n",
       "0             NaN             NaN             NaN             NaN   \n",
       "1             NaN             NaN             NaN             NaN   \n",
       "2             NaN             NaN             NaN             NaN   \n",
       "3             NaN             NaN             NaN             NaN   \n",
       "4             NaN             NaN             NaN             NaN   \n",
       "\n",
       "   CQ22_1#5_data2  CQ22_1#6_data2  CQ22_1#7_data2  CQ22_1#8_data2  \\\n",
       "0             NaN             NaN             NaN             NaN   \n",
       "1             NaN             NaN             NaN             NaN   \n",
       "2             NaN             NaN             NaN             NaN   \n",
       "3             NaN             NaN             NaN             NaN   \n",
       "4             NaN             NaN             NaN             NaN   \n",
       "\n",
       "   CQ22_2_data2  CQ22_3_data2  \n",
       "0           NaN           NaN  \n",
       "1           NaN           NaN  \n",
       "2           NaN           NaN  \n",
       "3           NaN           NaN  \n",
       "4           NaN           NaN  \n",
       "\n",
       "[5 rows x 1635 columns]"
      ]
     },
     "execution_count": 55,
     "metadata": {},
     "output_type": "execute_result"
    }
   ],
   "source": [
    "merge_outer.head()"
   ]
  },
  {
   "cell_type": "code",
   "execution_count": 56,
   "metadata": {},
   "outputs": [],
   "source": [
    "table1 = pd.concat([table1,merge_outer['UID']], axis=1, ignore_index=True)\n",
    "table2 = pd.concat([table2,merge_outer['UID']], axis=1, ignore_index=True)"
   ]
  },
  {
   "cell_type": "code",
   "execution_count": 57,
   "metadata": {},
   "outputs": [
    {
     "data": {
      "text/plain": [
       "0    20110822Bx8211000038\n",
       "Name: UID, dtype: object"
      ]
     },
     "execution_count": 57,
     "metadata": {},
     "output_type": "execute_result"
    }
   ],
   "source": [
    "merge_outer['UID'].head(1)"
   ]
  },
  {
   "cell_type": "code",
   "execution_count": 58,
   "metadata": {},
   "outputs": [
    {
     "data": {
      "text/html": [
       "<div>\n",
       "<style scoped>\n",
       "    .dataframe tbody tr th:only-of-type {\n",
       "        vertical-align: middle;\n",
       "    }\n",
       "\n",
       "    .dataframe tbody tr th {\n",
       "        vertical-align: top;\n",
       "    }\n",
       "\n",
       "    .dataframe thead th {\n",
       "        text-align: right;\n",
       "    }\n",
       "</style>\n",
       "<table border=\"1\" class=\"dataframe\">\n",
       "  <thead>\n",
       "    <tr style=\"text-align: right;\">\n",
       "      <th></th>\n",
       "      <th>0</th>\n",
       "      <th>1</th>\n",
       "      <th>2</th>\n",
       "      <th>3</th>\n",
       "      <th>4</th>\n",
       "      <th>5</th>\n",
       "      <th>6</th>\n",
       "      <th>7</th>\n",
       "      <th>8</th>\n",
       "      <th>9</th>\n",
       "      <th>...</th>\n",
       "      <th>808</th>\n",
       "      <th>809</th>\n",
       "      <th>810</th>\n",
       "      <th>811</th>\n",
       "      <th>812</th>\n",
       "      <th>813</th>\n",
       "      <th>814</th>\n",
       "      <th>815</th>\n",
       "      <th>816</th>\n",
       "      <th>817</th>\n",
       "    </tr>\n",
       "  </thead>\n",
       "  <tbody>\n",
       "    <tr>\n",
       "      <th>0</th>\n",
       "      <td>1.0</td>\n",
       "      <td>A</td>\n",
       "      <td>B</td>\n",
       "      <td>C</td>\n",
       "      <td>2.0</td>\n",
       "      <td>1964.0</td>\n",
       "      <td>58.0</td>\n",
       "      <td>6.0</td>\n",
       "      <td>1.0</td>\n",
       "      <td>3.0</td>\n",
       "      <td>...</td>\n",
       "      <td>NaN</td>\n",
       "      <td>NaN</td>\n",
       "      <td>NaN</td>\n",
       "      <td>NaN</td>\n",
       "      <td>NaN</td>\n",
       "      <td>NaN</td>\n",
       "      <td>NaN</td>\n",
       "      <td>NaN</td>\n",
       "      <td>NaN</td>\n",
       "      <td>20110822Bx8211000038</td>\n",
       "    </tr>\n",
       "  </tbody>\n",
       "</table>\n",
       "<p>1 rows × 818 columns</p>\n",
       "</div>"
      ],
      "text/plain": [
       "   0   1   2   3    4       5     6    7    8    9    ...  808  809  810  811  \\\n",
       "0  1.0   A   B   C  2.0  1964.0  58.0  6.0  1.0  3.0  ...  NaN  NaN  NaN  NaN   \n",
       "\n",
       "   812  813  814  815  816                   817  \n",
       "0  NaN  NaN  NaN  NaN  NaN  20110822Bx8211000038  \n",
       "\n",
       "[1 rows x 818 columns]"
      ]
     },
     "execution_count": 58,
     "metadata": {},
     "output_type": "execute_result"
    }
   ],
   "source": [
    "table1.head(1)"
   ]
  },
  {
   "cell_type": "code",
   "execution_count": 59,
   "metadata": {},
   "outputs": [],
   "source": [
    "# 컬럼 위치 바꾸기 -- 0529 수정\n",
    "table1 = change_columns(table1)\n",
    "table2 = change_columns(table2)"
   ]
  },
  {
   "cell_type": "code",
   "execution_count": 60,
   "metadata": {},
   "outputs": [],
   "source": [
    "table1.columns = data1.columns\n",
    "table2.columns = data2.columns"
   ]
  },
  {
   "cell_type": "code",
   "execution_count": 61,
   "metadata": {},
   "outputs": [],
   "source": [
    "table1.update(table2,overwrite=False)"
   ]
  },
  {
   "cell_type": "code",
   "execution_count": 62,
   "metadata": {},
   "outputs": [],
   "source": [
    "table1.to_csv(\"result.csv\")"
   ]
  },
  {
   "cell_type": "code",
   "execution_count": null,
   "metadata": {},
   "outputs": [],
   "source": []
  },
  {
   "cell_type": "code",
   "execution_count": null,
   "metadata": {},
   "outputs": [],
   "source": []
  }
 ],
 "metadata": {
  "interpreter": {
   "hash": "b4c112dc1bc7e2bf95c0d65a5ba41dbd869825ecf89bcbc82a2986c47b7b2b06"
  },
  "kernelspec": {
   "display_name": "Python 3.9.7 ('base')",
   "language": "python",
   "name": "python3"
  },
  "language_info": {
   "codemirror_mode": {
    "name": "ipython",
    "version": 3
   },
   "file_extension": ".py",
   "mimetype": "text/x-python",
   "name": "python",
   "nbconvert_exporter": "python",
   "pygments_lexer": "ipython3",
   "version": "3.9.7"
  },
  "orig_nbformat": 4
 },
 "nbformat": 4,
 "nbformat_minor": 2
}
